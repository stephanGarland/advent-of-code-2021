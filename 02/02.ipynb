{
 "cells": [
  {
   "cell_type": "code",
   "execution_count": 1,
   "id": "e10f1a9d",
   "metadata": {},
   "outputs": [],
   "source": [
    "import sys\n",
    "sys.path.append(\"..\")\n",
    "from classes.utilities import Utilities"
   ]
  },
  {
   "cell_type": "code",
   "execution_count": 2,
   "id": "25744b07",
   "metadata": {},
   "outputs": [],
   "source": [
    "ip = Utilities.get_input()"
   ]
  },
  {
   "cell_type": "code",
   "execution_count": 4,
   "id": "798de714",
   "metadata": {},
   "outputs": [],
   "source": [
    "position = dict(y=0, z=0)\n",
    "for d in ip:\n",
    "    if d[0] == \"forward\":\n",
    "        position[\"y\"] += int(d[1])\n",
    "    elif d[0] == \"down\":\n",
    "        position[\"z\"] += int(d[1])\n",
    "    elif d[0] == \"up\":\n",
    "        position[\"z\"] -= int(d[1])"
   ]
  },
  {
   "cell_type": "code",
   "execution_count": 28,
   "id": "9bde84ed",
   "metadata": {},
   "outputs": [
    {
     "data": {
      "text/plain": [
       "1938402"
      ]
     },
     "execution_count": 28,
     "metadata": {},
     "output_type": "execute_result"
    }
   ],
   "source": [
    "position[\"y\"] * position[\"z\"]"
   ]
  },
  {
   "cell_type": "code",
   "execution_count": 5,
   "id": "2675dc1d",
   "metadata": {},
   "outputs": [],
   "source": [
    "position = dict(y=0, z=0, aim=0)\n",
    "for d in ip:\n",
    "    if d[0] == \"forward\":\n",
    "        position[\"y\"] += int(d[1])\n",
    "        if position[\"aim\"]:\n",
    "            position[\"z\"] += int(d[1]) * position[\"aim\"]\n",
    "    elif d[0] == \"down\":\n",
    "        position[\"aim\"] += int(d[1])\n",
    "    elif d[0] == \"up\":\n",
    "        position[\"aim\"] -= int(d[1])"
   ]
  },
  {
   "cell_type": "code",
   "execution_count": 6,
   "id": "7dce9f59",
   "metadata": {},
   "outputs": [
    {
     "data": {
      "text/plain": [
       "1947878632"
      ]
     },
     "execution_count": 6,
     "metadata": {},
     "output_type": "execute_result"
    }
   ],
   "source": [
    "position[\"y\"] * position[\"z\"]"
   ]
  },
  {
   "cell_type": "code",
   "execution_count": null,
   "id": "5a66c4a2",
   "metadata": {},
   "outputs": [],
   "source": []
  }
 ],
 "metadata": {
  "kernelspec": {
   "display_name": "Python 3 (ipykernel)",
   "language": "python",
   "name": "python3"
  },
  "language_info": {
   "codemirror_mode": {
    "name": "ipython",
    "version": 3
   },
   "file_extension": ".py",
   "mimetype": "text/x-python",
   "name": "python",
   "nbconvert_exporter": "python",
   "pygments_lexer": "ipython3",
   "version": "3.10.0"
  }
 },
 "nbformat": 4,
 "nbformat_minor": 5
}
