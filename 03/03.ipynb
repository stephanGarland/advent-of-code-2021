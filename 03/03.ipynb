{
 "cells": [
  {
   "cell_type": "code",
   "execution_count": 80,
   "id": "a277ec5c",
   "metadata": {},
   "outputs": [],
   "source": [
    "from dataclasses import dataclass\n",
    "import sys\n",
    "\n",
    "sys.path.append(\"..\")\n",
    "from classes.utilities import Utilities"
   ]
  },
  {
   "cell_type": "code",
   "execution_count": 159,
   "id": "660d7c75",
   "metadata": {},
   "outputs": [],
   "source": [
    "@dataclass\n",
    "class Counter:\n",
    "    zeroes: int = 0\n",
    "    ones: int = 0\n",
    "\n",
    "    def common(self):\n",
    "        return 0 if self.zeroes > self.ones else 1"
   ]
  },
  {
   "cell_type": "code",
   "execution_count": 188,
   "id": "56d670e8",
   "metadata": {},
   "outputs": [],
   "source": [
    "ip, cmd_len = Utilities.get_input()"
   ]
  },
  {
   "cell_type": "code",
   "execution_count": 151,
   "id": "8d7d2a56",
   "metadata": {},
   "outputs": [],
   "source": [
    "bits = {x: y for x,y in list(zip(list(range(cmd_len)), [0]*cmd_len))}"
   ]
  },
  {
   "cell_type": "code",
   "execution_count": 152,
   "id": "64efa666",
   "metadata": {},
   "outputs": [],
   "source": [
    "for cmd in ip:\n",
    "    for i in range(cmd_len):\n",
    "        bits[i] += int(cmd[i])"
   ]
  },
  {
   "cell_type": "code",
   "execution_count": 153,
   "id": "a38adc05",
   "metadata": {},
   "outputs": [],
   "source": [
    "gamma = []\n",
    "epsilon = []\n",
    "for v in bits.values():\n",
    "    if v > len(ip) / 2:\n",
    "        gamma.append(\"1\")\n",
    "        epsilon.append(\"0\")\n",
    "    else:\n",
    "        gamma.append(\"0\")\n",
    "        epsilon.append(\"1\")"
   ]
  },
  {
   "cell_type": "code",
   "execution_count": 154,
   "id": "c235065d",
   "metadata": {},
   "outputs": [],
   "source": [
    "gamma_rate = int(\"\".join(gamma), 2)\n",
    "epsilon_rate = int(\"\".join(epsilon), 2)"
   ]
  },
  {
   "cell_type": "code",
   "execution_count": 155,
   "id": "c4ca6f5d",
   "metadata": {},
   "outputs": [
    {
     "data": {
      "text/plain": [
       "2583164"
      ]
     },
     "execution_count": 155,
     "metadata": {},
     "output_type": "execute_result"
    }
   ],
   "source": [
    "gamma_rate * epsilon_rate"
   ]
  },
  {
   "cell_type": "code",
   "execution_count": 221,
   "id": "e5e8bbe5",
   "metadata": {},
   "outputs": [],
   "source": [
    "# This was taken from Reddit\n",
    "# I have no fucking clue how it differs from my re-written one below, \n",
    "def find_rating(reports: list, rating: str, index: int = 0) -> list:\n",
    "    if len(reports) == 1:\n",
    "        return reports[0]\n",
    "    counts = [Counter() for i in range(len(reports[0]))]\n",
    "    for report in reports:\n",
    "        for i, bit in enumerate(report):\n",
    "            if bit == \"0\":\n",
    "                counts[i].zeroes += 1\n",
    "            elif bit == \"1\":\n",
    "                counts[i].ones += 1\n",
    "            else:\n",
    "                raise ValueError()\n",
    "    gamma = \"\".join([str(count.common()) for count in counts])\n",
    "    if rating == \"o2\":\n",
    "        return find_rating([report for report in reports if report[index] == gamma[index]], rating, index + 1)\n",
    "    return find_rating([report for report in reports if report[index] != gamma[index]], rating, index + 1)"
   ]
  },
  {
   "cell_type": "code",
   "execution_count": 226,
   "id": "2e737240",
   "metadata": {},
   "outputs": [],
   "source": [
    "def filter_matches(cmds: list, rating: str, idx: int = 0)-> list:\n",
    "    if len(ip) == 1:\n",
    "        return cmds\n",
    "    counts = [Counter() for x in range(12)]\n",
    "    for cmd in cmds:\n",
    "        for i, bit in enumerate(cmd):\n",
    "            if bit == \"0\":\n",
    "                counts[i].zeroes += 1\n",
    "            elif bit == \"1\":\n",
    "                counts[i].ones += 1\n",
    "    common = \"\".join([str(count.common()) for count in counts])\n",
    "    if rating == \"o2\":\n",
    "        return filter_matches([x for x in cmds if cmds[idx] == common[idx]], rating, idx+1)\n",
    "    else:\n",
    "        return filter_matches([x for x in cmds if cmds[idx] != common[idx]], rating, idx+1)"
   ]
  },
  {
   "cell_type": "code",
   "execution_count": 227,
   "id": "fe68b7cb",
   "metadata": {},
   "outputs": [
    {
     "ename": "RecursionError",
     "evalue": "maximum recursion depth exceeded",
     "output_type": "error",
     "traceback": [
      "\u001b[0;31m---------------------------------------------------------------------------\u001b[0m",
      "\u001b[0;31mRecursionError\u001b[0m                            Traceback (most recent call last)",
      "\u001b[0;32m/tmp/ipykernel_88/1370374285.py\u001b[0m in \u001b[0;36m<module>\u001b[0;34m\u001b[0m\n\u001b[0;32m----> 1\u001b[0;31m \u001b[0mo2\u001b[0m \u001b[0;34m=\u001b[0m \u001b[0mfilter_matches\u001b[0m\u001b[0;34m(\u001b[0m\u001b[0mip\u001b[0m\u001b[0;34m,\u001b[0m \u001b[0;34m\"o2\"\u001b[0m\u001b[0;34m)\u001b[0m\u001b[0;34m\u001b[0m\u001b[0;34m\u001b[0m\u001b[0m\n\u001b[0m\u001b[1;32m      2\u001b[0m \u001b[0mco2\u001b[0m \u001b[0;34m=\u001b[0m \u001b[0mfilter_matches\u001b[0m\u001b[0;34m(\u001b[0m\u001b[0mip\u001b[0m\u001b[0;34m,\u001b[0m \u001b[0;34m\"co2\"\u001b[0m\u001b[0;34m)\u001b[0m\u001b[0;34m\u001b[0m\u001b[0;34m\u001b[0m\u001b[0m\n",
      "\u001b[0;32m/tmp/ipykernel_88/1798904448.py\u001b[0m in \u001b[0;36mfilter_matches\u001b[0;34m(cmds, rating, idx)\u001b[0m\n\u001b[1;32m     11\u001b[0m     \u001b[0mcommon\u001b[0m \u001b[0;34m=\u001b[0m \u001b[0;34m\"\"\u001b[0m\u001b[0;34m.\u001b[0m\u001b[0mjoin\u001b[0m\u001b[0;34m(\u001b[0m\u001b[0;34m[\u001b[0m\u001b[0mstr\u001b[0m\u001b[0;34m(\u001b[0m\u001b[0mcount\u001b[0m\u001b[0;34m.\u001b[0m\u001b[0mcommon\u001b[0m\u001b[0;34m(\u001b[0m\u001b[0;34m)\u001b[0m\u001b[0;34m)\u001b[0m \u001b[0;32mfor\u001b[0m \u001b[0mcount\u001b[0m \u001b[0;32min\u001b[0m \u001b[0mcounts\u001b[0m\u001b[0;34m]\u001b[0m\u001b[0;34m)\u001b[0m\u001b[0;34m\u001b[0m\u001b[0;34m\u001b[0m\u001b[0m\n\u001b[1;32m     12\u001b[0m     \u001b[0;32mif\u001b[0m \u001b[0mrating\u001b[0m \u001b[0;34m==\u001b[0m \u001b[0;34m\"o2\"\u001b[0m\u001b[0;34m:\u001b[0m\u001b[0;34m\u001b[0m\u001b[0;34m\u001b[0m\u001b[0m\n\u001b[0;32m---> 13\u001b[0;31m         \u001b[0;32mreturn\u001b[0m \u001b[0mfilter_matches\u001b[0m\u001b[0;34m(\u001b[0m\u001b[0;34m[\u001b[0m\u001b[0mx\u001b[0m \u001b[0;32mfor\u001b[0m \u001b[0mx\u001b[0m \u001b[0;32min\u001b[0m \u001b[0mcmds\u001b[0m \u001b[0;32mif\u001b[0m \u001b[0mcmds\u001b[0m\u001b[0;34m[\u001b[0m\u001b[0midx\u001b[0m\u001b[0;34m]\u001b[0m \u001b[0;34m==\u001b[0m \u001b[0mcommon\u001b[0m\u001b[0;34m[\u001b[0m\u001b[0midx\u001b[0m\u001b[0;34m]\u001b[0m\u001b[0;34m]\u001b[0m\u001b[0;34m,\u001b[0m \u001b[0mrating\u001b[0m\u001b[0;34m,\u001b[0m \u001b[0midx\u001b[0m\u001b[0;34m+\u001b[0m\u001b[0;36m1\u001b[0m\u001b[0;34m)\u001b[0m\u001b[0;34m\u001b[0m\u001b[0;34m\u001b[0m\u001b[0m\n\u001b[0m\u001b[1;32m     14\u001b[0m     \u001b[0;32melse\u001b[0m\u001b[0;34m:\u001b[0m\u001b[0;34m\u001b[0m\u001b[0;34m\u001b[0m\u001b[0m\n\u001b[1;32m     15\u001b[0m         \u001b[0;32mreturn\u001b[0m \u001b[0mfilter_matches\u001b[0m\u001b[0;34m(\u001b[0m\u001b[0;34m[\u001b[0m\u001b[0mx\u001b[0m \u001b[0;32mfor\u001b[0m \u001b[0mx\u001b[0m \u001b[0;32min\u001b[0m \u001b[0mcmds\u001b[0m \u001b[0;32mif\u001b[0m \u001b[0mcmds\u001b[0m\u001b[0;34m[\u001b[0m\u001b[0midx\u001b[0m\u001b[0;34m]\u001b[0m \u001b[0;34m!=\u001b[0m \u001b[0mcommon\u001b[0m\u001b[0;34m[\u001b[0m\u001b[0midx\u001b[0m\u001b[0;34m]\u001b[0m\u001b[0;34m]\u001b[0m\u001b[0;34m,\u001b[0m \u001b[0mrating\u001b[0m\u001b[0;34m,\u001b[0m \u001b[0midx\u001b[0m\u001b[0;34m+\u001b[0m\u001b[0;36m1\u001b[0m\u001b[0;34m)\u001b[0m\u001b[0;34m\u001b[0m\u001b[0;34m\u001b[0m\u001b[0m\n",
      "... last 1 frames repeated, from the frame below ...\n",
      "\u001b[0;32m/tmp/ipykernel_88/1798904448.py\u001b[0m in \u001b[0;36mfilter_matches\u001b[0;34m(cmds, rating, idx)\u001b[0m\n\u001b[1;32m     11\u001b[0m     \u001b[0mcommon\u001b[0m \u001b[0;34m=\u001b[0m \u001b[0;34m\"\"\u001b[0m\u001b[0;34m.\u001b[0m\u001b[0mjoin\u001b[0m\u001b[0;34m(\u001b[0m\u001b[0;34m[\u001b[0m\u001b[0mstr\u001b[0m\u001b[0;34m(\u001b[0m\u001b[0mcount\u001b[0m\u001b[0;34m.\u001b[0m\u001b[0mcommon\u001b[0m\u001b[0;34m(\u001b[0m\u001b[0;34m)\u001b[0m\u001b[0;34m)\u001b[0m \u001b[0;32mfor\u001b[0m \u001b[0mcount\u001b[0m \u001b[0;32min\u001b[0m \u001b[0mcounts\u001b[0m\u001b[0;34m]\u001b[0m\u001b[0;34m)\u001b[0m\u001b[0;34m\u001b[0m\u001b[0;34m\u001b[0m\u001b[0m\n\u001b[1;32m     12\u001b[0m     \u001b[0;32mif\u001b[0m \u001b[0mrating\u001b[0m \u001b[0;34m==\u001b[0m \u001b[0;34m\"o2\"\u001b[0m\u001b[0;34m:\u001b[0m\u001b[0;34m\u001b[0m\u001b[0;34m\u001b[0m\u001b[0m\n\u001b[0;32m---> 13\u001b[0;31m         \u001b[0;32mreturn\u001b[0m \u001b[0mfilter_matches\u001b[0m\u001b[0;34m(\u001b[0m\u001b[0;34m[\u001b[0m\u001b[0mx\u001b[0m \u001b[0;32mfor\u001b[0m \u001b[0mx\u001b[0m \u001b[0;32min\u001b[0m \u001b[0mcmds\u001b[0m \u001b[0;32mif\u001b[0m \u001b[0mcmds\u001b[0m\u001b[0;34m[\u001b[0m\u001b[0midx\u001b[0m\u001b[0;34m]\u001b[0m \u001b[0;34m==\u001b[0m \u001b[0mcommon\u001b[0m\u001b[0;34m[\u001b[0m\u001b[0midx\u001b[0m\u001b[0;34m]\u001b[0m\u001b[0;34m]\u001b[0m\u001b[0;34m,\u001b[0m \u001b[0mrating\u001b[0m\u001b[0;34m,\u001b[0m \u001b[0midx\u001b[0m\u001b[0;34m+\u001b[0m\u001b[0;36m1\u001b[0m\u001b[0;34m)\u001b[0m\u001b[0;34m\u001b[0m\u001b[0;34m\u001b[0m\u001b[0m\n\u001b[0m\u001b[1;32m     14\u001b[0m     \u001b[0;32melse\u001b[0m\u001b[0;34m:\u001b[0m\u001b[0;34m\u001b[0m\u001b[0;34m\u001b[0m\u001b[0m\n\u001b[1;32m     15\u001b[0m         \u001b[0;32mreturn\u001b[0m \u001b[0mfilter_matches\u001b[0m\u001b[0;34m(\u001b[0m\u001b[0;34m[\u001b[0m\u001b[0mx\u001b[0m \u001b[0;32mfor\u001b[0m \u001b[0mx\u001b[0m \u001b[0;32min\u001b[0m \u001b[0mcmds\u001b[0m \u001b[0;32mif\u001b[0m \u001b[0mcmds\u001b[0m\u001b[0;34m[\u001b[0m\u001b[0midx\u001b[0m\u001b[0;34m]\u001b[0m \u001b[0;34m!=\u001b[0m \u001b[0mcommon\u001b[0m\u001b[0;34m[\u001b[0m\u001b[0midx\u001b[0m\u001b[0;34m]\u001b[0m\u001b[0;34m]\u001b[0m\u001b[0;34m,\u001b[0m \u001b[0mrating\u001b[0m\u001b[0;34m,\u001b[0m \u001b[0midx\u001b[0m\u001b[0;34m+\u001b[0m\u001b[0;36m1\u001b[0m\u001b[0;34m)\u001b[0m\u001b[0;34m\u001b[0m\u001b[0;34m\u001b[0m\u001b[0m\n",
      "\u001b[0;31mRecursionError\u001b[0m: maximum recursion depth exceeded"
     ]
    }
   ],
   "source": [
    "o2 = filter_matches(ip, \"o2\")\n",
    "co2 = filter_matches(ip, \"co2\")"
   ]
  },
  {
   "cell_type": "code",
   "execution_count": 126,
   "id": "cef47ddd",
   "metadata": {},
   "outputs": [
    {
     "ename": "NameError",
     "evalue": "name 'o2' is not defined",
     "output_type": "error",
     "traceback": [
      "\u001b[0;31m---------------------------------------------------------------------------\u001b[0m",
      "\u001b[0;31mNameError\u001b[0m                                 Traceback (most recent call last)",
      "\u001b[0;32m/tmp/ipykernel_88/804521963.py\u001b[0m in \u001b[0;36m<module>\u001b[0;34m\u001b[0m\n\u001b[0;32m----> 1\u001b[0;31m \u001b[0mo2_rate\u001b[0m \u001b[0;34m=\u001b[0m \u001b[0mint\u001b[0m\u001b[0;34m(\u001b[0m\u001b[0;34m\"\"\u001b[0m\u001b[0;34m.\u001b[0m\u001b[0mjoin\u001b[0m\u001b[0;34m(\u001b[0m\u001b[0mo2\u001b[0m\u001b[0;34m)\u001b[0m\u001b[0;34m,\u001b[0m \u001b[0;36m2\u001b[0m\u001b[0;34m)\u001b[0m\u001b[0;34m\u001b[0m\u001b[0;34m\u001b[0m\u001b[0m\n\u001b[0m\u001b[1;32m      2\u001b[0m \u001b[0mco2_rate\u001b[0m \u001b[0;34m=\u001b[0m \u001b[0mint\u001b[0m\u001b[0;34m(\u001b[0m\u001b[0;34m\"\"\u001b[0m\u001b[0;34m.\u001b[0m\u001b[0mjoin\u001b[0m\u001b[0;34m(\u001b[0m\u001b[0mco2\u001b[0m\u001b[0;34m)\u001b[0m\u001b[0;34m,\u001b[0m \u001b[0;36m2\u001b[0m\u001b[0;34m)\u001b[0m\u001b[0;34m\u001b[0m\u001b[0;34m\u001b[0m\u001b[0m\n",
      "\u001b[0;31mNameError\u001b[0m: name 'o2' is not defined"
     ]
    }
   ],
   "source": [
    "o2_rate = int(\"\".join(o2), 2)\n",
    "co2_rate = int(\"\".join(co2), 2)"
   ]
  },
  {
   "cell_type": "code",
   "execution_count": null,
   "id": "97dc4953",
   "metadata": {},
   "outputs": [],
   "source": [
    "o2_rate * co2_rate"
   ]
  },
  {
   "cell_type": "code",
   "execution_count": 225,
   "id": "df8d9ba4",
   "metadata": {},
   "outputs": [
    {
     "name": "stdout",
     "output_type": "stream",
     "text": [
      "2784375\n"
     ]
    }
   ],
   "source": [
    "int_ip = [int(x) for x in ip]\n",
    "oxygen = find_rating(ip, \"o2\")\n",
    "co2 = find_rating(ip, \"co2\")\n",
    "print(int(oxygen, 2) * int(co2, 2))"
   ]
  },
  {
   "cell_type": "code",
   "execution_count": 215,
   "id": "33ae591f",
   "metadata": {},
   "outputs": [
    {
     "data": {
      "text/plain": [
       "2572440"
      ]
     },
     "execution_count": 215,
     "metadata": {},
     "output_type": "execute_result"
    }
   ],
   "source": [
    "2572440"
   ]
  },
  {
   "cell_type": "code",
   "execution_count": null,
   "id": "f8f339b3",
   "metadata": {},
   "outputs": [],
   "source": []
  }
 ],
 "metadata": {
  "kernelspec": {
   "display_name": "Python 3 (ipykernel)",
   "language": "python",
   "name": "python3"
  },
  "language_info": {
   "codemirror_mode": {
    "name": "ipython",
    "version": 3
   },
   "file_extension": ".py",
   "mimetype": "text/x-python",
   "name": "python",
   "nbconvert_exporter": "python",
   "pygments_lexer": "ipython3",
   "version": "3.9.7"
  }
 },
 "nbformat": 4,
 "nbformat_minor": 5
}
