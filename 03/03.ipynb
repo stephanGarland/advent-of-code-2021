{
 "cells": [
  {
   "cell_type": "code",
   "execution_count": 1,
   "id": "a277ec5c",
   "metadata": {},
   "outputs": [],
   "source": [
    "import sys\n",
    "sys.path.append(\"..\")\n",
    "from classes.utilities import Utilities"
   ]
  },
  {
   "cell_type": "code",
   "execution_count": 2,
   "id": "56d670e8",
   "metadata": {},
   "outputs": [],
   "source": [
    "ip, cmd_len = Utilities.get_input()"
   ]
  },
  {
   "cell_type": "code",
   "execution_count": 3,
   "id": "8d7d2a56",
   "metadata": {},
   "outputs": [],
   "source": [
    "bits = {x: y for x,y in list(zip(list(range(cmd_len)), [0]*cmd_len))}"
   ]
  },
  {
   "cell_type": "code",
   "execution_count": 4,
   "id": "64efa666",
   "metadata": {},
   "outputs": [],
   "source": [
    "for cmd in ip:\n",
    "    for i in range(cmd_len):\n",
    "        bits[i] += int(cmd[i])"
   ]
  },
  {
   "cell_type": "code",
   "execution_count": 5,
   "id": "a38adc05",
   "metadata": {},
   "outputs": [],
   "source": [
    "gamma = []\n",
    "epsilon = []\n",
    "for v in bits.values():\n",
    "    if v > len(ip) / 2:\n",
    "        gamma.append(\"1\")\n",
    "        epsilon.append(\"0\")\n",
    "    else:\n",
    "        gamma.append(\"0\")\n",
    "        epsilon.append(\"1\")"
   ]
  },
  {
   "cell_type": "code",
   "execution_count": 6,
   "id": "c235065d",
   "metadata": {},
   "outputs": [],
   "source": [
    "gamma_rate = int(\"\".join(gamma), 2)\n",
    "epsilon_rate = int(\"\".join(epsilon), 2)"
   ]
  },
  {
   "cell_type": "code",
   "execution_count": 10,
   "id": "c4ca6f5d",
   "metadata": {},
   "outputs": [
    {
     "data": {
      "text/plain": [
       "2583164"
      ]
     },
     "execution_count": 10,
     "metadata": {},
     "output_type": "execute_result"
    }
   ],
   "source": [
    "gamma_rate * epsilon_rate"
   ]
  },
  {
   "cell_type": "code",
   "execution_count": 13,
   "id": "2e737240",
   "metadata": {},
   "outputs": [],
   "source": [
    "def filter_matches(matches: list, comparator: list, idx: int)-> list:\n",
    "    new_matches = []\n",
    "    for cmd in matches:\n",
    "        if cmd[idx] == comparator[idx]:\n",
    "            new_matches.append(cmd)\n",
    "    if len(new_matches) == 1:\n",
    "        return new_matches\n",
    "    else:\n",
    "        return filter_matches(new_matches, comparator, idx+1)"
   ]
  },
  {
   "cell_type": "code",
   "execution_count": 14,
   "id": "fe68b7cb",
   "metadata": {},
   "outputs": [],
   "source": [
    "o2 = filter_matches(ip, gamma, 0).pop()\n",
    "co2 = filter_matches(ip, epsilon, 0).pop()"
   ]
  },
  {
   "cell_type": "code",
   "execution_count": 15,
   "id": "cef47ddd",
   "metadata": {},
   "outputs": [],
   "source": [
    "o2_rate = int(\"\".join(o2), 2)\n",
    "co2_rate = int(\"\".join(co2), 2)"
   ]
  },
  {
   "cell_type": "code",
   "execution_count": 16,
   "id": "97dc4953",
   "metadata": {},
   "outputs": [
    {
     "data": {
      "text/plain": [
       "2572440"
      ]
     },
     "execution_count": 16,
     "metadata": {},
     "output_type": "execute_result"
    }
   ],
   "source": [
    "o2_rate * co2_rate"
   ]
  },
  {
   "cell_type": "code",
   "execution_count": 36,
   "id": "7b7a24c2",
   "metadata": {},
   "outputs": [],
   "source": [
    "from dataclasses import dataclass\n",
    "\n",
    "def to_decimal(string):\n",
    "    res = 0\n",
    "    for i, bit in enumerate(string[::-1]):\n",
    "        if int(bit) == 1:\n",
    "            res = res + pow(2,i)\n",
    "    return res\n",
    "\n",
    "@dataclass\n",
    "class Counter:\n",
    "    zeros: int = 0\n",
    "    ones: int = 0\n",
    "\n",
    "    def common(self):\n",
    "        return 0 if self.zeros > self.ones else 1\n",
    "\n",
    "    def least_common(self):\n",
    "        return 1 if self.zeros > self.ones else 0\n",
    "\n",
    "def find_rating(reports, rating_type,index):\n",
    "    if len(reports) == 1:\n",
    "        return to_decimal(reports[0])\n",
    "    counts = [Counter() for i in range(len(reports[0]))]\n",
    "    for report in reports:\n",
    "        for i, bit in enumerate(report):\n",
    "            if bit == \"0\":\n",
    "                counts[i].zeros += 1\n",
    "            elif bit == \"1\":\n",
    "                counts[i].ones += 1\n",
    "            else:\n",
    "                raise ValueError()\n",
    "    gamma = \"\".join([str(count.common()) for count in counts])\n",
    "    if \"oxygen\" == rating_type:\n",
    "        return find_rating([report for report in reports if report[index] == gamma[index]], rating_type, index + 1)\n",
    "    return find_rating([report for report in reports if report[index] != gamma[index]], rating_type, index + 1)\n"
   ]
  },
  {
   "cell_type": "code",
   "execution_count": 37,
   "id": "df8d9ba4",
   "metadata": {},
   "outputs": [
    {
     "name": "stdout",
     "output_type": "stream",
     "text": [
      "2784375\n"
     ]
    }
   ],
   "source": [
    "int_ip = [int(x) for x in ip]\n",
    "oxygen = find_rating(ip, \"oxygen\", 0)\n",
    "co2 = find_rating(ip, \"co2\", 0)\n",
    "print(oxygen * co2)"
   ]
  },
  {
   "cell_type": "code",
   "execution_count": 38,
   "id": "33ae591f",
   "metadata": {},
   "outputs": [
    {
     "data": {
      "text/plain": [
       "2572440"
      ]
     },
     "execution_count": 38,
     "metadata": {},
     "output_type": "execute_result"
    }
   ],
   "source": [
    "2572440"
   ]
  },
  {
   "cell_type": "code",
   "execution_count": null,
   "id": "93e1d241",
   "metadata": {},
   "outputs": [],
   "source": []
  }
 ],
 "metadata": {
  "kernelspec": {
   "display_name": "Python 3 (ipykernel)",
   "language": "python",
   "name": "python3"
  },
  "language_info": {
   "codemirror_mode": {
    "name": "ipython",
    "version": 3
   },
   "file_extension": ".py",
   "mimetype": "text/x-python",
   "name": "python",
   "nbconvert_exporter": "python",
   "pygments_lexer": "ipython3",
   "version": "3.9.9"
  }
 },
 "nbformat": 4,
 "nbformat_minor": 5
}
