{
 "cells": [
  {
   "cell_type": "code",
   "execution_count": 1,
   "id": "a277ec5c",
   "metadata": {},
   "outputs": [],
   "source": [
    "import sys\n",
    "sys.path.append(\"..\")\n",
    "from classes.utilities import Utilities"
   ]
  },
  {
   "cell_type": "code",
   "execution_count": 152,
   "id": "56d670e8",
   "metadata": {},
   "outputs": [],
   "source": [
    "ip = Utilities.get_input()"
   ]
  },
  {
   "cell_type": "code",
   "execution_count": 153,
   "id": "8d7d2a56",
   "metadata": {},
   "outputs": [],
   "source": [
    "len_command = len(ip[0][0])\n",
    "bits = {x: y for x,y in list(zip(list(range(len_command)), [0]*len_command))}"
   ]
  },
  {
   "cell_type": "code",
   "execution_count": 154,
   "id": "64efa666",
   "metadata": {},
   "outputs": [],
   "source": [
    "for cmd in ip:\n",
    "    for i in range(len(cmd[0])):\n",
    "        bits[i] += int(cmd[0][i])"
   ]
  },
  {
   "cell_type": "code",
   "execution_count": 169,
   "id": "a38adc05",
   "metadata": {},
   "outputs": [],
   "source": [
    "gamma = []\n",
    "epsilon = []\n",
    "for v in bits.values():\n",
    "    if v > len(ip) / 2:\n",
    "        gamma.append(\"1\")\n",
    "        epsilon.append(\"0\")\n",
    "    else:\n",
    "        gamma.append(\"0\")\n",
    "        epsilon.append(\"1\")"
   ]
  },
  {
   "cell_type": "code",
   "execution_count": 170,
   "id": "c235065d",
   "metadata": {},
   "outputs": [],
   "source": [
    "gamma_rate = int(\"\".join(gamma), 2)\n",
    "epsilon_rate = int(\"\".join(epsilon), 2)"
   ]
  },
  {
   "cell_type": "code",
   "execution_count": 171,
   "id": "c4ca6f5d",
   "metadata": {},
   "outputs": [
    {
     "data": {
      "text/plain": [
       "2583164"
      ]
     },
     "execution_count": 171,
     "metadata": {},
     "output_type": "execute_result"
    }
   ],
   "source": [
    "gamma_rate * epsilon_rate"
   ]
  },
  {
   "cell_type": "code",
   "execution_count": null,
   "id": "3e3f2bf0",
   "metadata": {},
   "outputs": [],
   "source": []
  }
 ],
 "metadata": {
  "kernelspec": {
   "display_name": "Python 3 (ipykernel)",
   "language": "python",
   "name": "python3"
  },
  "language_info": {
   "codemirror_mode": {
    "name": "ipython",
    "version": 3
   },
   "file_extension": ".py",
   "mimetype": "text/x-python",
   "name": "python",
   "nbconvert_exporter": "python",
   "pygments_lexer": "ipython3",
   "version": "3.10.0"
  }
 },
 "nbformat": 4,
 "nbformat_minor": 5
}
