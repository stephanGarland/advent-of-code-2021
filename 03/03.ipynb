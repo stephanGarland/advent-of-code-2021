{
 "cells": [
  {
   "cell_type": "code",
   "execution_count": 2,
   "id": "a277ec5c",
   "metadata": {},
   "outputs": [],
   "source": [
    "import sys\n",
    "sys.path.append(\"..\")\n",
    "from classes.utilities import Utilities"
   ]
  },
  {
   "cell_type": "code",
   "execution_count": 29,
   "id": "30a03baa",
   "metadata": {},
   "outputs": [],
   "source": [
    "from IPython.core.debugger import set_trace"
   ]
  },
  {
   "cell_type": "code",
   "execution_count": 4,
   "id": "56d670e8",
   "metadata": {},
   "outputs": [],
   "source": [
    "ip = Utilities.get_input()"
   ]
  },
  {
   "cell_type": "code",
   "execution_count": 5,
   "id": "8d7d2a56",
   "metadata": {},
   "outputs": [],
   "source": [
    "len_command = len(ip[0][0])\n",
    "bits = {x: y for x,y in list(zip(list(range(len_command)), [0]*len_command))}"
   ]
  },
  {
   "cell_type": "code",
   "execution_count": 6,
   "id": "64efa666",
   "metadata": {},
   "outputs": [],
   "source": [
    "for cmd in ip:\n",
    "    for i in range(len(cmd[0])):\n",
    "        bits[i] += int(cmd[0][i])"
   ]
  },
  {
   "cell_type": "code",
   "execution_count": 7,
   "id": "a38adc05",
   "metadata": {},
   "outputs": [],
   "source": [
    "gamma = []\n",
    "epsilon = []\n",
    "for v in bits.values():\n",
    "    if v > len(ip) / 2:\n",
    "        gamma.append(\"1\")\n",
    "        epsilon.append(\"0\")\n",
    "    else:\n",
    "        gamma.append(\"0\")\n",
    "        epsilon.append(\"1\")"
   ]
  },
  {
   "cell_type": "code",
   "execution_count": 8,
   "id": "c235065d",
   "metadata": {},
   "outputs": [],
   "source": [
    "gamma_rate = int(\"\".join(gamma), 2)\n",
    "epsilon_rate = int(\"\".join(epsilon), 2)"
   ]
  },
  {
   "cell_type": "code",
   "execution_count": 9,
   "id": "c4ca6f5d",
   "metadata": {},
   "outputs": [
    {
     "data": {
      "text/plain": [
       "2583164"
      ]
     },
     "execution_count": 9,
     "metadata": {},
     "output_type": "execute_result"
    }
   ],
   "source": [
    "gamma_rate * epsilon_rate"
   ]
  },
  {
   "cell_type": "code",
   "execution_count": 91,
   "id": "3e3f2bf0",
   "metadata": {
    "scrolled": false
   },
   "outputs": [
    {
     "name": "stdout",
     "output_type": "stream",
     "text": [
      "779 779 ['111101001011']\n",
      "779 779 ['101100111011']\n",
      "779 779 ['001110011111']\n",
      "779 779 ['011111001111']\n",
      "779 779 ['001100011111']\n",
      "779 779 ['001110001011']\n",
      "779 779 ['101111001111']\n",
      "779 779 ['111100111111']\n",
      "779 779 ['011110011011']\n",
      "779 779 ['011110001011']\n",
      "779 779 ['011111001011']\n",
      "779 779 ['011101001011']\n",
      "779 779 ['001101001011']\n",
      "779 779 ['101111111111']\n",
      "779 779 ['101101011011']\n",
      "779 779 ['011110011111']\n",
      "779 779 ['011110111111']\n",
      "779 779 ['011101001111']\n",
      "779 779 ['001110101011']\n",
      "779 779 ['011111101111']\n",
      "779 779 ['101100101011']\n",
      "779 779 ['111111111111']\n",
      "779 779 ['011110111011']\n",
      "779 779 ['111110001011']\n",
      "779 779 ['001111101011']\n",
      "779 779 ['001100001111']\n",
      "779 779 ['001101011011']\n",
      "779 779 ['001110111011']\n",
      "779 779 ['001110111111']\n",
      "779 779 ['111110101111']\n",
      "779 779 ['101100001011']\n",
      "779 779 ['011100111011']\n",
      "779 779 ['101111001011']\n",
      "779 779 ['111110101011']\n",
      "779 779 ['001111001011']\n",
      "779 779 ['001111111111']\n",
      "779 779 ['101100001111']\n"
     ]
    }
   ],
   "source": [
    "mask = int(\"\".join(gamma), 2)\n",
    "for i, cmd in enumerate(ip):\n",
    "    #if i > 9:\n",
    "    #    break\n",
    "    cmd_bin = int(cmd[0], 2)\n",
    "    res = (cmd_bin & mask)\n",
    "    #if res == 0:\n",
    "    #print(f\"i: {i}\\tcmd: {cmd[0]}\\tres:{res}\")\n",
    "    if res == mask:\n",
    "        print(res, mask, cmd)"
   ]
  },
  {
   "cell_type": "code",
   "execution_count": 71,
   "id": "237ff602",
   "metadata": {},
   "outputs": [
    {
     "name": "stdout",
     "output_type": "stream",
     "text": [
      "cmd:\t0b1000101100\n",
      "mask:\t0b1100001011\n",
      "res:\t0b1000001000\n"
     ]
    }
   ],
   "source": [
    "print(f\"cmd:\\t{bin(int(cmd[0], 2))}\")\n",
    "print(f\"mask:\\t{bin(mask)}\")\n",
    "print(f\"res:\\t{bin((int(cmd[0], 2)) & (mask))}\")"
   ]
  },
  {
   "cell_type": "code",
   "execution_count": 85,
   "id": "2e737240",
   "metadata": {},
   "outputs": [],
   "source": [
    "matches = []\n",
    "counter = 0\n",
    "for i, cmd in enumerate(ip):\n",
    "    if counter == len(cmd):\n",
    "        matches.append(cmd)\n",
    "    counter = 0\n",
    "    for j, bit in enumerate(cmd):\n",
    "        if bit[j] == gamma[j]:\n",
    "            counter += 1"
   ]
  },
  {
   "cell_type": "code",
   "execution_count": null,
   "id": "9c8a682e",
   "metadata": {},
   "outputs": [],
   "source": []
  }
 ],
 "metadata": {
  "kernelspec": {
   "display_name": "Python 3 (ipykernel)",
   "language": "python",
   "name": "python3"
  },
  "language_info": {
   "codemirror_mode": {
    "name": "ipython",
    "version": 3
   },
   "file_extension": ".py",
   "mimetype": "text/x-python",
   "name": "python",
   "nbconvert_exporter": "python",
   "pygments_lexer": "ipython3",
   "version": "3.9.9"
  }
 },
 "nbformat": 4,
 "nbformat_minor": 5
}
