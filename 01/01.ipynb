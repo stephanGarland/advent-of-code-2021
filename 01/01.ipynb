{
 "cells": [
  {
   "cell_type": "code",
   "execution_count": 1,
   "id": "22a4d019",
   "metadata": {},
   "outputs": [],
   "source": [
    "import sys\n",
    "sys.path.append(\"..\")\n",
    "from classes.utilities import Utilities"
   ]
  },
  {
   "cell_type": "code",
   "execution_count": 6,
   "id": "1e2b7eef",
   "metadata": {},
   "outputs": [],
   "source": [
    "ip = Utilities.get_input()"
   ]
  },
  {
   "cell_type": "code",
   "execution_count": 3,
   "id": "7feec1f9",
   "metadata": {},
   "outputs": [
    {
     "name": "stdout",
     "output_type": "stream",
     "text": [
      "1580\n"
     ]
    }
   ],
   "source": [
    "ind_count = 0\n",
    "for i, d in enumerate(ip):\n",
    "    if d > ip[i-1]:\n",
    "        ind_count += 1\n",
    "print(ind_count)"
   ]
  },
  {
   "cell_type": "code",
   "execution_count": 331,
   "id": "034c6118",
   "metadata": {},
   "outputs": [
    {
     "name": "stdout",
     "output_type": "stream",
     "text": [
      "1618\n"
     ]
    }
   ],
   "source": [
    "curr_window = []\n",
    "depth_windows = []\n",
    "sum_counter = 0\n",
    "for i, d in enumerate(depths):\n",
    "    curr_window = depths[i:i+3]\n",
    "    depth_windows.append(sum(curr_window))\n",
    "    \n",
    "for i, w in enumerate(depth_windows):\n",
    "    if w > depth_windows[i-1]:\n",
    "        sum_counter += 1\n",
    "        \n",
    "print(sum_counter)"
   ]
  },
  {
   "cell_type": "code",
   "execution_count": null,
   "id": "3012d66f",
   "metadata": {},
   "outputs": [],
   "source": []
  }
 ],
 "metadata": {
  "kernelspec": {
   "display_name": "Python 3 (ipykernel)",
   "language": "python",
   "name": "python3"
  },
  "language_info": {
   "codemirror_mode": {
    "name": "ipython",
    "version": 3
   },
   "file_extension": ".py",
   "mimetype": "text/x-python",
   "name": "python",
   "nbconvert_exporter": "python",
   "pygments_lexer": "ipython3",
   "version": "3.10.0"
  }
 },
 "nbformat": 4,
 "nbformat_minor": 5
}
